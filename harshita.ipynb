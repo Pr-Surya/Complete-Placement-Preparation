{
  "nbformat": 4,
  "nbformat_minor": 0,
  "metadata": {
    "colab": {
      "name": "Untitled20.ipynb",
      "provenance": [],
      "authorship_tag": "ABX9TyMGTOZ+4TpMx1qlftjFv4Mm",
      "include_colab_link": true
    },
    "kernelspec": {
      "name": "python3",
      "display_name": "Python 3"
    },
    "language_info": {
      "name": "python"
    }
  },
  "cells": [
    {
      "cell_type": "markdown",
      "metadata": {
        "id": "view-in-github",
        "colab_type": "text"
      },
      "source": [
        "<a href=\"https://colab.research.google.com/github/Pr-Surya/Complete-Placement-Preparation/blob/main/harshita.ipynb\" target=\"_parent\"><img src=\"https://colab.research.google.com/assets/colab-badge.svg\" alt=\"Open In Colab\"/></a>"
      ]
    },
    {
      "cell_type": "code",
      "execution_count": null,
      "metadata": {
        "colab": {
          "base_uri": "https://localhost:8080/"
        },
        "id": "IIJdb0EaPFJy",
        "outputId": "7678465c-5fe3-4e7c-d3a3-a9cfdb8da37f"
      },
      "outputs": [
        {
          "output_type": "stream",
          "name": "stdout",
          "text": [
            "harshita\n"
          ]
        }
      ],
      "source": [
        "print(\"harshita\")"
      ]
    },
    {
      "cell_type": "code",
      "source": [
        "a=10\n",
        "b=2\n",
        "\n",
        "c = a+b"
      ],
      "metadata": {
        "id": "4pMkqnemPLBS"
      },
      "execution_count": null,
      "outputs": []
    },
    {
      "cell_type": "code",
      "source": [
        "b=5\n",
        "\n"
      ],
      "metadata": {
        "id": "3X9w-MrPPXfb"
      },
      "execution_count": null,
      "outputs": []
    },
    {
      "cell_type": "code",
      "source": [
        "c"
      ],
      "metadata": {
        "colab": {
          "base_uri": "https://localhost:8080/"
        },
        "id": "DBCGs-ewPkQe",
        "outputId": "e752dee2-5541-4af1-e2ec-49f083210c78"
      },
      "execution_count": null,
      "outputs": [
        {
          "output_type": "execute_result",
          "data": {
            "text/plain": [
              "12"
            ]
          },
          "metadata": {},
          "execution_count": 17
        }
      ]
    },
    {
      "cell_type": "code",
      "source": [
        "print(c)"
      ],
      "metadata": {
        "colab": {
          "base_uri": "https://localhost:8080/"
        },
        "id": "CbhwB5o6P05m",
        "outputId": "cd86bd86-df3b-41dd-a873-0d237466fddf"
      },
      "execution_count": null,
      "outputs": [
        {
          "output_type": "stream",
          "name": "stdout",
          "text": [
            "12\n"
          ]
        }
      ]
    },
    {
      "cell_type": "code",
      "source": [
        ""
      ],
      "metadata": {
        "id": "jAu0AkVrP-Ai"
      },
      "execution_count": null,
      "outputs": []
    }
  ]
}